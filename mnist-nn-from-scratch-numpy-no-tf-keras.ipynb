{
 "cells": [
  {
   "cell_type": "markdown",
   "metadata": {
    "papermill": {
     "duration": 0.02331,
     "end_time": "2023-06-16T11:52:29.319957",
     "exception": false,
     "start_time": "2023-06-16T11:52:29.296647",
     "status": "completed"
    },
    "tags": []
   },
   "source": [
    "# MNIST Neural Network from scratch\n",
    "\n",
    "Here I've Implemented a two-layer neural network which is simple and trained it on the MNIST digit recognizer dataset. After learning CNN and got impressed by the CN networks I have tried to implement it from scratch no Tensor Flow or Keras. As an instutional example it is very much interesting to learn NN and Implment them from scratch and The math can be find in the below explanation.\n"
   ]
  },
  {
   "cell_type": "markdown",
   "metadata": {
    "papermill": {
     "duration": 0.018926,
     "end_time": "2023-06-16T11:52:29.357879",
     "exception": false,
     "start_time": "2023-06-16T11:52:29.338953",
     "status": "completed"
    },
    "tags": []
   },
   "source": [
    "> ***Import Libraries***"
   ]
  },
  {
   "cell_type": "code",
   "execution_count": 1,
   "metadata": {
    "_cell_guid": "b1076dfc-b9ad-4769-8c92-a6c4dae69d19",
    "_uuid": "8f2839f25d086af736a60e9eeb907d3b93b6e0e5",
    "execution": {
     "iopub.execute_input": "2023-06-16T11:52:29.403704Z",
     "iopub.status.busy": "2023-06-16T11:52:29.402431Z",
     "iopub.status.idle": "2023-06-16T11:52:29.406081Z",
     "shell.execute_reply": "2023-06-16T11:52:29.405391Z",
     "shell.execute_reply.started": "2023-06-16T11:43:26.076916Z"
    },
    "papermill": {
     "duration": 0.029628,
     "end_time": "2023-06-16T11:52:29.406238",
     "exception": false,
     "start_time": "2023-06-16T11:52:29.376610",
     "status": "completed"
    },
    "tags": []
   },
   "outputs": [],
   "source": [
    "import numpy as np\n",
    "import pandas as pd\n",
    "from matplotlib import pyplot as plt"
   ]
  },
  {
   "cell_type": "markdown",
   "metadata": {
    "papermill": {
     "duration": 0.019199,
     "end_time": "2023-06-16T11:52:29.448123",
     "exception": false,
     "start_time": "2023-06-16T11:52:29.428924",
     "status": "completed"
    },
    "tags": []
   },
   "source": [
    "> ***Digit Recognizer dataset***"
   ]
  },
  {
   "cell_type": "code",
   "execution_count": 2,
   "metadata": {
    "execution": {
     "iopub.execute_input": "2023-06-16T11:52:29.496268Z",
     "iopub.status.busy": "2023-06-16T11:52:29.495385Z",
     "iopub.status.idle": "2023-06-16T11:52:34.406588Z",
     "shell.execute_reply": "2023-06-16T11:52:34.405154Z"
    },
    "papermill": {
     "duration": 4.938679,
     "end_time": "2023-06-16T11:52:34.406768",
     "exception": false,
     "start_time": "2023-06-16T11:52:29.468089",
     "status": "completed"
    },
    "tags": []
   },
   "outputs": [],
   "source": [
    "data = pd.read_csv('/kaggle/input/digit-recognizer/train.csv')"
   ]
  },
  {
   "cell_type": "markdown",
   "metadata": {
    "papermill": {
     "duration": 0.019656,
     "end_time": "2023-06-16T11:52:34.446915",
     "exception": false,
     "start_time": "2023-06-16T11:52:34.427259",
     "status": "completed"
    },
    "tags": []
   },
   "source": [
    "> ***shuffle before splitting into dev and training sets***"
   ]
  },
  {
   "cell_type": "code",
   "execution_count": 3,
   "metadata": {
    "execution": {
     "iopub.execute_input": "2023-06-16T11:52:34.496934Z",
     "iopub.status.busy": "2023-06-16T11:52:34.495994Z",
     "iopub.status.idle": "2023-06-16T11:52:35.634417Z",
     "shell.execute_reply": "2023-06-16T11:52:35.633537Z",
     "shell.execute_reply.started": "2023-06-16T11:31:36.776613Z"
    },
    "papermill": {
     "duration": 1.167101,
     "end_time": "2023-06-16T11:52:35.634574",
     "exception": false,
     "start_time": "2023-06-16T11:52:34.467473",
     "status": "completed"
    },
    "tags": []
   },
   "outputs": [],
   "source": [
    "data = np.array(data)\n",
    "m, n = data.shape\n",
    "np.random.shuffle(data) \n",
    "\n",
    "data_dev = data[0:1000].T\n",
    "Y_dev = data_dev[0]\n",
    "X_dev = data_dev[1:n]\n",
    "X_dev = X_dev / 255.\n",
    "\n",
    "data_train = data[1000:m].T\n",
    "Y_train = data_train[0]\n",
    "X_train = data_train[1:n]\n",
    "X_train = X_train / 255.\n",
    "_,m_train = X_train.shape"
   ]
  },
  {
   "cell_type": "code",
   "execution_count": 4,
   "metadata": {
    "execution": {
     "iopub.execute_input": "2023-06-16T11:52:35.683543Z",
     "iopub.status.busy": "2023-06-16T11:52:35.682604Z",
     "iopub.status.idle": "2023-06-16T11:52:35.688580Z",
     "shell.execute_reply": "2023-06-16T11:52:35.689178Z",
     "shell.execute_reply.started": "2023-06-16T11:31:40.765578Z"
    },
    "papermill": {
     "duration": 0.034707,
     "end_time": "2023-06-16T11:52:35.689378",
     "exception": false,
     "start_time": "2023-06-16T11:52:35.654671",
     "status": "completed"
    },
    "tags": []
   },
   "outputs": [
    {
     "data": {
      "text/plain": [
       "array([0, 5, 5, ..., 9, 8, 9])"
      ]
     },
     "execution_count": 4,
     "metadata": {},
     "output_type": "execute_result"
    }
   ],
   "source": [
    "Y_train"
   ]
  },
  {
   "cell_type": "markdown",
   "metadata": {
    "papermill": {
     "duration": 0.020123,
     "end_time": "2023-06-16T11:52:35.729035",
     "exception": false,
     "start_time": "2023-06-16T11:52:35.708912",
     "status": "completed"
    },
    "tags": []
   },
   "source": [
    "> # ***The Math***"
   ]
  },
  {
   "cell_type": "markdown",
   "metadata": {
    "papermill": {
     "duration": 0.018666,
     "end_time": "2023-06-16T11:52:35.767275",
     "exception": false,
     "start_time": "2023-06-16T11:52:35.748609",
     "status": "completed"
    },
    "tags": []
   },
   "source": [
    "Our NN will have a simple two-layer architecture. Input layer $a^{[0]}$ will have 784 units corresponding to the 784 pixels in each 28x28 input image. A hidden layer $a^{[1]}$ will have 10 units with ReLU activation, and finally our output layer $a^{[2]}$ will have 10 units corresponding to the ten digit classes with softmax activation.\n",
    "\n",
    "**Forward propagation**\n",
    "\n",
    "$$Z^{[1]} = W^{[1]} X + b^{[1]}$$\n",
    "$$A^{[1]} = g_{\\text{ReLU}}(Z^{[1]}))$$\n",
    "$$Z^{[2]} = W^{[2]} A^{[1]} + b^{[2]}$$\n",
    "$$A^{[2]} = g_{\\text{softmax}}(Z^{[2]})$$\n",
    "\n",
    "**Backward propagation**\n",
    "\n",
    "$$dZ^{[2]} = A^{[2]} - Y$$\n",
    "$$dW^{[2]} = \\frac{1}{m} dZ^{[2]} A^{[1]T}$$\n",
    "$$dB^{[2]} = \\frac{1}{m} \\Sigma {dZ^{[2]}}$$\n",
    "$$dZ^{[1]} = W^{[2]T} dZ^{[2]} .* g^{[1]\\prime} (z^{[1]})$$\n",
    "$$dW^{[1]} = \\frac{1}{m} dZ^{[1]} A^{[0]T}$$\n",
    "$$dB^{[1]} = \\frac{1}{m} \\Sigma {dZ^{[1]}}$$\n",
    "\n",
    "**Parameter updates**\n",
    "\n",
    "$$W^{[2]} := W^{[2]} - \\alpha dW^{[2]}$$\n",
    "$$b^{[2]} := b^{[2]} - \\alpha db^{[2]}$$\n",
    "$$W^{[1]} := W^{[1]} - \\alpha dW^{[1]}$$\n",
    "$$b^{[1]} := b^{[1]} - \\alpha db^{[1]}$$\n",
    "\n",
    "**Vars and shapes**\n",
    "\n",
    "Forward prop\n",
    "\n",
    "- $A^{[0]} = X$: 784 x m\n",
    "- $Z^{[1]} \\sim A^{[1]}$: 10 x m\n",
    "- $W^{[1]}$: 10 x 784 (as $W^{[1]} A^{[0]} \\sim Z^{[1]}$)\n",
    "- $B^{[1]}$: 10 x 1\n",
    "- $Z^{[2]} \\sim A^{[2]}$: 10 x m\n",
    "- $W^{[1]}$: 10 x 10 (as $W^{[2]} A^{[1]} \\sim Z^{[2]}$)\n",
    "- $B^{[2]}$: 10 x 1\n",
    "\n",
    "Backprop\n",
    "\n",
    "- $dZ^{[2]}$: 10 x m ($~A^{[2]}$)\n",
    "- $dW^{[2]}$: 10 x 10\n",
    "- $dB^{[2]}$: 10 x 1\n",
    "- $dZ^{[1]}$: 10 x m ($~A^{[1]}$)\n",
    "- $dW^{[1]}$: 10 x 10\n",
    "- $dB^{[1]}$: 10 x 1"
   ]
  },
  {
   "cell_type": "markdown",
   "metadata": {
    "papermill": {
     "duration": 0.018789,
     "end_time": "2023-06-16T11:52:35.805447",
     "exception": false,
     "start_time": "2023-06-16T11:52:35.786658",
     "status": "completed"
    },
    "tags": []
   },
   "source": [
    "> ***Define Functions***"
   ]
  },
  {
   "cell_type": "code",
   "execution_count": 5,
   "metadata": {
    "execution": {
     "iopub.execute_input": "2023-06-16T11:52:35.868688Z",
     "iopub.status.busy": "2023-06-16T11:52:35.867330Z",
     "iopub.status.idle": "2023-06-16T11:52:35.869715Z",
     "shell.execute_reply": "2023-06-16T11:52:35.870313Z",
     "shell.execute_reply.started": "2023-06-16T11:31:46.244230Z"
    },
    "papermill": {
     "duration": 0.045694,
     "end_time": "2023-06-16T11:52:35.870518",
     "exception": false,
     "start_time": "2023-06-16T11:52:35.824824",
     "status": "completed"
    },
    "tags": []
   },
   "outputs": [],
   "source": [
    "def init_params():\n",
    "    W1 = np.random.rand(10, 784) - 0.5\n",
    "    b1 = np.random.rand(10, 1) - 0.5\n",
    "    W2 = np.random.rand(10, 10) - 0.5\n",
    "    b2 = np.random.rand(10, 1) - 0.5\n",
    "    return W1, b1, W2, b2\n",
    "\n",
    "def ReLU(Z):\n",
    "    return np.maximum(Z, 0)\n",
    "\n",
    "def softmax(Z):\n",
    "    A = np.exp(Z) / sum(np.exp(Z))\n",
    "    return A\n",
    "    \n",
    "def forward_prop(W1, b1, W2, b2, X):\n",
    "    Z1 = W1.dot(X) + b1\n",
    "    A1 = ReLU(Z1)\n",
    "    Z2 = W2.dot(A1) + b2\n",
    "    A2 = softmax(Z2)\n",
    "    return Z1, A1, Z2, A2\n",
    "\n",
    "def ReLU_deriv(Z):\n",
    "    return Z > 0\n",
    "\n",
    "def one_hot(Y):\n",
    "    one_hot_Y = np.zeros((Y.size, Y.max() + 1))\n",
    "    one_hot_Y[np.arange(Y.size), Y] = 1\n",
    "    one_hot_Y = one_hot_Y.T\n",
    "    return one_hot_Y\n",
    "\n",
    "def backward_prop(Z1, A1, Z2, A2, W1, W2, X, Y):\n",
    "    one_hot_Y = one_hot(Y)\n",
    "    dZ2 = A2 - one_hot_Y\n",
    "    dW2 = 1 / m * dZ2.dot(A1.T)\n",
    "    db2 = 1 / m * np.sum(dZ2)\n",
    "    dZ1 = W2.T.dot(dZ2) * ReLU_deriv(Z1)\n",
    "    dW1 = 1 / m * dZ1.dot(X.T)\n",
    "    db1 = 1 / m * np.sum(dZ1)\n",
    "    return dW1, db1, dW2, db2\n",
    "\n",
    "def update_params(W1, b1, W2, b2, dW1, db1, dW2, db2, alpha):\n",
    "    W1 = W1 - alpha * dW1\n",
    "    b1 = b1 - alpha * db1    \n",
    "    W2 = W2 - alpha * dW2  \n",
    "    b2 = b2 - alpha * db2    \n",
    "    return W1, b1, W2, b2"
   ]
  },
  {
   "cell_type": "markdown",
   "metadata": {
    "papermill": {
     "duration": 0.019354,
     "end_time": "2023-06-16T11:52:35.909426",
     "exception": false,
     "start_time": "2023-06-16T11:52:35.890072",
     "status": "completed"
    },
    "tags": []
   },
   "source": [
    "> ***Gradient Descent***"
   ]
  },
  {
   "cell_type": "code",
   "execution_count": 6,
   "metadata": {
    "execution": {
     "iopub.execute_input": "2023-06-16T11:52:35.963013Z",
     "iopub.status.busy": "2023-06-16T11:52:35.958321Z",
     "iopub.status.idle": "2023-06-16T11:52:35.966638Z",
     "shell.execute_reply": "2023-06-16T11:52:35.965936Z",
     "shell.execute_reply.started": "2023-06-16T11:31:50.146179Z"
    },
    "papermill": {
     "duration": 0.037788,
     "end_time": "2023-06-16T11:52:35.966812",
     "exception": false,
     "start_time": "2023-06-16T11:52:35.929024",
     "status": "completed"
    },
    "tags": []
   },
   "outputs": [],
   "source": [
    "def get_predictions(A2):\n",
    "    return np.argmax(A2, 0)\n",
    "\n",
    "def get_accuracy(predictions, Y):\n",
    "    print(predictions, Y)\n",
    "    return np.sum(predictions == Y) / Y.size\n",
    "\n",
    "def gradient_descent(X, Y, alpha, iterations):\n",
    "    W1, b1, W2, b2 = init_params()\n",
    "    for i in range(iterations):\n",
    "        Z1, A1, Z2, A2 = forward_prop(W1, b1, W2, b2, X)\n",
    "        dW1, db1, dW2, db2 = backward_prop(Z1, A1, Z2, A2, W1, W2, X, Y)\n",
    "        W1, b1, W2, b2 = update_params(W1, b1, W2, b2, dW1, db1, dW2, db2, alpha)\n",
    "        if i % 10 == 0:\n",
    "            print(\"Iteration: \", i)\n",
    "            predictions = get_predictions(A2)\n",
    "            print(get_accuracy(predictions, Y))\n",
    "    return W1, b1, W2, b2"
   ]
  },
  {
   "cell_type": "markdown",
   "metadata": {
    "papermill": {
     "duration": 0.027469,
     "end_time": "2023-06-16T11:52:36.014768",
     "exception": false,
     "start_time": "2023-06-16T11:52:35.987299",
     "status": "completed"
    },
    "tags": []
   },
   "source": [
    "> ***Implement GD***"
   ]
  },
  {
   "cell_type": "code",
   "execution_count": 7,
   "metadata": {
    "execution": {
     "iopub.execute_input": "2023-06-16T11:52:36.060529Z",
     "iopub.status.busy": "2023-06-16T11:52:36.059331Z",
     "iopub.status.idle": "2023-06-16T11:53:24.430367Z",
     "shell.execute_reply": "2023-06-16T11:53:24.429329Z",
     "shell.execute_reply.started": "2023-06-16T11:31:52.378185Z"
    },
    "papermill": {
     "duration": 48.394708,
     "end_time": "2023-06-16T11:53:24.430599",
     "exception": false,
     "start_time": "2023-06-16T11:52:36.035891",
     "status": "completed"
    },
    "tags": []
   },
   "outputs": [
    {
     "name": "stdout",
     "output_type": "stream",
     "text": [
      "Iteration:  0\n",
      "[9 9 9 ... 6 9 9] [0 5 5 ... 9 8 9]\n",
      "0.11429268292682927\n",
      "Iteration:  10\n",
      "[2 5 5 ... 6 6 2] [0 5 5 ... 9 8 9]\n",
      "0.1618780487804878\n",
      "Iteration:  20\n",
      "[2 5 4 ... 6 6 7] [0 5 5 ... 9 8 9]\n",
      "0.2233658536585366\n",
      "Iteration:  30\n",
      "[0 5 4 ... 6 6 7] [0 5 5 ... 9 8 9]\n",
      "0.2796585365853659\n",
      "Iteration:  40\n",
      "[0 5 4 ... 4 6 7] [0 5 5 ... 9 8 9]\n",
      "0.32709756097560977\n",
      "Iteration:  50\n",
      "[0 5 4 ... 4 6 7] [0 5 5 ... 9 8 9]\n",
      "0.3770487804878049\n",
      "Iteration:  60\n",
      "[0 3 4 ... 4 6 7] [0 5 5 ... 9 8 9]\n",
      "0.43373170731707317\n",
      "Iteration:  70\n",
      "[0 3 4 ... 4 6 7] [0 5 5 ... 9 8 9]\n",
      "0.4848780487804878\n",
      "Iteration:  80\n",
      "[0 5 4 ... 4 6 7] [0 5 5 ... 9 8 9]\n",
      "0.5260487804878049\n",
      "Iteration:  90\n",
      "[0 5 4 ... 4 6 7] [0 5 5 ... 9 8 9]\n",
      "0.5583658536585366\n",
      "Iteration:  100\n",
      "[0 5 4 ... 4 8 7] [0 5 5 ... 9 8 9]\n",
      "0.586170731707317\n",
      "Iteration:  110\n",
      "[0 5 4 ... 4 8 7] [0 5 5 ... 9 8 9]\n",
      "0.6099756097560975\n",
      "Iteration:  120\n",
      "[0 5 4 ... 4 8 7] [0 5 5 ... 9 8 9]\n",
      "0.6293658536585366\n",
      "Iteration:  130\n",
      "[0 5 4 ... 9 8 7] [0 5 5 ... 9 8 9]\n",
      "0.6481219512195122\n",
      "Iteration:  140\n",
      "[0 5 4 ... 9 8 7] [0 5 5 ... 9 8 9]\n",
      "0.6645853658536586\n",
      "Iteration:  150\n",
      "[0 5 4 ... 9 8 7] [0 5 5 ... 9 8 9]\n",
      "0.6789268292682927\n",
      "Iteration:  160\n",
      "[0 5 4 ... 9 8 7] [0 5 5 ... 9 8 9]\n",
      "0.6919024390243902\n",
      "Iteration:  170\n",
      "[0 5 5 ... 9 8 7] [0 5 5 ... 9 8 9]\n",
      "0.7038780487804878\n",
      "Iteration:  180\n",
      "[0 5 5 ... 9 8 7] [0 5 5 ... 9 8 9]\n",
      "0.7149512195121951\n",
      "Iteration:  190\n",
      "[0 5 5 ... 9 8 7] [0 5 5 ... 9 8 9]\n",
      "0.7246585365853658\n",
      "Iteration:  200\n",
      "[0 5 5 ... 9 8 7] [0 5 5 ... 9 8 9]\n",
      "0.7336341463414634\n",
      "Iteration:  210\n",
      "[0 5 5 ... 9 8 7] [0 5 5 ... 9 8 9]\n",
      "0.7415609756097561\n",
      "Iteration:  220\n",
      "[0 5 5 ... 9 8 7] [0 5 5 ... 9 8 9]\n",
      "0.7485853658536585\n",
      "Iteration:  230\n",
      "[0 5 5 ... 9 8 7] [0 5 5 ... 9 8 9]\n",
      "0.7557073170731707\n",
      "Iteration:  240\n",
      "[0 5 5 ... 9 8 9] [0 5 5 ... 9 8 9]\n",
      "0.7622439024390244\n",
      "Iteration:  250\n",
      "[0 5 5 ... 9 8 9] [0 5 5 ... 9 8 9]\n",
      "0.7678780487804878\n",
      "Iteration:  260\n",
      "[0 5 5 ... 9 8 9] [0 5 5 ... 9 8 9]\n",
      "0.7727804878048781\n",
      "Iteration:  270\n",
      "[0 5 5 ... 9 8 9] [0 5 5 ... 9 8 9]\n",
      "0.7777804878048781\n",
      "Iteration:  280\n",
      "[0 5 5 ... 9 8 9] [0 5 5 ... 9 8 9]\n",
      "0.7825853658536586\n",
      "Iteration:  290\n",
      "[0 5 5 ... 9 8 9] [0 5 5 ... 9 8 9]\n",
      "0.7873414634146342\n",
      "Iteration:  300\n",
      "[0 5 5 ... 9 8 9] [0 5 5 ... 9 8 9]\n",
      "0.7919268292682927\n",
      "Iteration:  310\n",
      "[0 5 5 ... 9 8 9] [0 5 5 ... 9 8 9]\n",
      "0.7963902439024391\n",
      "Iteration:  320\n",
      "[0 5 5 ... 9 8 9] [0 5 5 ... 9 8 9]\n",
      "0.8002926829268293\n",
      "Iteration:  330\n",
      "[0 5 5 ... 9 8 9] [0 5 5 ... 9 8 9]\n",
      "0.8034634146341464\n",
      "Iteration:  340\n",
      "[0 5 5 ... 9 8 9] [0 5 5 ... 9 8 9]\n",
      "0.8070243902439025\n",
      "Iteration:  350\n",
      "[0 5 5 ... 9 8 9] [0 5 5 ... 9 8 9]\n",
      "0.8104634146341464\n",
      "Iteration:  360\n",
      "[0 5 5 ... 9 8 9] [0 5 5 ... 9 8 9]\n",
      "0.8134390243902438\n",
      "Iteration:  370\n",
      "[0 5 5 ... 9 8 9] [0 5 5 ... 9 8 9]\n",
      "0.8158292682926829\n",
      "Iteration:  380\n",
      "[0 5 5 ... 9 8 9] [0 5 5 ... 9 8 9]\n",
      "0.8185853658536585\n",
      "Iteration:  390\n",
      "[0 5 5 ... 9 8 9] [0 5 5 ... 9 8 9]\n",
      "0.8206829268292682\n",
      "Iteration:  400\n",
      "[0 5 5 ... 9 8 9] [0 5 5 ... 9 8 9]\n",
      "0.8227073170731707\n",
      "Iteration:  410\n",
      "[0 5 5 ... 9 8 9] [0 5 5 ... 9 8 9]\n",
      "0.8247560975609756\n",
      "Iteration:  420\n",
      "[0 5 5 ... 9 8 9] [0 5 5 ... 9 8 9]\n",
      "0.8274390243902439\n",
      "Iteration:  430\n",
      "[0 5 5 ... 9 8 9] [0 5 5 ... 9 8 9]\n",
      "0.8296097560975609\n",
      "Iteration:  440\n",
      "[0 5 5 ... 9 8 9] [0 5 5 ... 9 8 9]\n",
      "0.8314146341463414\n",
      "Iteration:  450\n",
      "[0 5 5 ... 9 8 9] [0 5 5 ... 9 8 9]\n",
      "0.8337073170731707\n",
      "Iteration:  460\n",
      "[0 5 5 ... 9 8 9] [0 5 5 ... 9 8 9]\n",
      "0.8352195121951219\n",
      "Iteration:  470\n",
      "[0 5 5 ... 9 8 9] [0 5 5 ... 9 8 9]\n",
      "0.8361463414634146\n",
      "Iteration:  480\n",
      "[0 5 5 ... 9 8 9] [0 5 5 ... 9 8 9]\n",
      "0.8375365853658536\n",
      "Iteration:  490\n",
      "[0 5 5 ... 9 8 9] [0 5 5 ... 9 8 9]\n",
      "0.8391219512195122\n"
     ]
    }
   ],
   "source": [
    "W1, b1, W2, b2 = gradient_descent(X_train, Y_train, 0.10, 500)"
   ]
  },
  {
   "cell_type": "markdown",
   "metadata": {
    "papermill": {
     "duration": 0.058456,
     "end_time": "2023-06-16T11:53:24.549055",
     "exception": false,
     "start_time": "2023-06-16T11:53:24.490599",
     "status": "completed"
    },
    "tags": []
   },
   "source": [
    "> *~85% accuracy on training set.*"
   ]
  },
  {
   "cell_type": "markdown",
   "metadata": {
    "papermill": {
     "duration": 0.052508,
     "end_time": "2023-06-16T11:53:24.660076",
     "exception": false,
     "start_time": "2023-06-16T11:53:24.607568",
     "status": "completed"
    },
    "tags": []
   },
   "source": [
    "> ***Testing Predictions***"
   ]
  },
  {
   "cell_type": "code",
   "execution_count": 8,
   "metadata": {
    "execution": {
     "iopub.execute_input": "2023-06-16T11:53:24.760705Z",
     "iopub.status.busy": "2023-06-16T11:53:24.759428Z",
     "iopub.status.idle": "2023-06-16T11:53:24.765073Z",
     "shell.execute_reply": "2023-06-16T11:53:24.764048Z",
     "shell.execute_reply.started": "2023-06-16T11:47:48.823489Z"
    },
    "papermill": {
     "duration": 0.063337,
     "end_time": "2023-06-16T11:53:24.765321",
     "exception": false,
     "start_time": "2023-06-16T11:53:24.701984",
     "status": "completed"
    },
    "tags": []
   },
   "outputs": [],
   "source": [
    "def make_predictions(X, W1, b1, W2, b2):\n",
    "    _, _, _, A2 = forward_prop(W1, b1, W2, b2, X)\n",
    "    predictions = get_predictions(A2)\n",
    "    return predictions\n",
    "\n",
    "def test_prediction(index, W1, b1, W2, b2):\n",
    "    current_image = X_train[:, index, None]\n",
    "    prediction = make_predictions(X_train[:, index, None], W1, b1, W2, b2)\n",
    "    label = Y_train[index]\n",
    "    print(\"Prediction: \", prediction)\n",
    "    print(\"Label: \", label)\n",
    "    \n",
    "    current_image = current_image.reshape((28, 28)) * 255\n",
    "    plt.gray()\n",
    "    plt.imshow(current_image, interpolation='nearest')\n",
    "    plt.show()"
   ]
  },
  {
   "cell_type": "markdown",
   "metadata": {
    "papermill": {
     "duration": 0.045258,
     "end_time": "2023-06-16T11:53:24.856977",
     "exception": false,
     "start_time": "2023-06-16T11:53:24.811719",
     "status": "completed"
    },
    "tags": []
   },
   "source": [
    "> *Let's look at a some of examples:*"
   ]
  },
  {
   "cell_type": "code",
   "execution_count": 9,
   "metadata": {
    "execution": {
     "iopub.execute_input": "2023-06-16T11:53:24.943135Z",
     "iopub.status.busy": "2023-06-16T11:53:24.942210Z",
     "iopub.status.idle": "2023-06-16T11:53:25.821044Z",
     "shell.execute_reply": "2023-06-16T11:53:25.819591Z",
     "shell.execute_reply.started": "2023-06-16T11:35:30.663122Z"
    },
    "papermill": {
     "duration": 0.924308,
     "end_time": "2023-06-16T11:53:25.821226",
     "exception": false,
     "start_time": "2023-06-16T11:53:24.896918",
     "status": "completed"
    },
    "tags": []
   },
   "outputs": [
    {
     "name": "stdout",
     "output_type": "stream",
     "text": [
      "Prediction:  [0]\n",
      "Label:  0\n"
     ]
    },
    {
     "data": {
      "image/png": "[encoded data removed]",
      "text/plain": [
       "<Figure size 432x288 with 1 Axes>"
      ]
     },
     "metadata": {
      "needs_background": "light"
     },
     "output_type": "display_data"
    },
    {
     "name": "stdout",
     "output_type": "stream",
     "text": [
      "Prediction:  [5]\n",
      "Label:  5\n"
     ]
    },
    {
     "data": {
      "image/png": "[encoded data removed]",
      "text/plain": [
       "<Figure size 432x288 with 1 Axes>"
      ]
     },
     "metadata": {
      "needs_background": "light"
     },
     "output_type": "display_data"
    },
    {
     "name": "stdout",
     "output_type": "stream",
     "text": [
      "Prediction:  [5]\n",
      "Label:  5\n"
     ]
    },
    {
     "data": {
      "image/png": "[encoded data removed]",
      "text/plain": [
       "<Figure size 432x288 with 1 Axes>"
      ]
     },
     "metadata": {
      "needs_background": "light"
     },
     "output_type": "display_data"
    },
    {
     "name": "stdout",
     "output_type": "stream",
     "text": [
      "Prediction:  [0]\n",
      "Label:  0\n"
     ]
    },
    {
     "data": {
      "image/png": "[encoded data removed]",
      "text/plain": [
       "<Figure size 432x288 with 1 Axes>"
      ]
     },
     "metadata": {
      "needs_background": "light"
     },
     "output_type": "display_data"
    }
   ],
   "source": [
    "test_prediction(0, W1, b1, W2, b2)\n",
    "test_prediction(1, W1, b1, W2, b2)\n",
    "test_prediction(2, W1, b1, W2, b2)\n",
    "test_prediction(3, W1, b1, W2, b2)"
   ]
  },
  {
   "cell_type": "markdown",
   "metadata": {
    "papermill": {
     "duration": 0.047363,
     "end_time": "2023-06-16T11:53:25.913630",
     "exception": false,
     "start_time": "2023-06-16T11:53:25.866267",
     "status": "completed"
    },
    "tags": []
   },
   "source": [
    "> *Finally, let's find the accuracy :*"
   ]
  },
  {
   "cell_type": "code",
   "execution_count": 10,
   "metadata": {
    "execution": {
     "iopub.execute_input": "2023-06-16T11:53:26.020583Z",
     "iopub.status.busy": "2023-06-16T11:53:26.019379Z",
     "iopub.status.idle": "2023-06-16T11:53:26.037722Z",
     "shell.execute_reply": "2023-06-16T11:53:26.038656Z",
     "shell.execute_reply.started": "2023-06-16T11:35:37.618121Z"
    },
    "papermill": {
     "duration": 0.079994,
     "end_time": "2023-06-16T11:53:26.038894",
     "exception": false,
     "start_time": "2023-06-16T11:53:25.958900",
     "status": "completed"
    },
    "tags": []
   },
   "outputs": [
    {
     "name": "stdout",
     "output_type": "stream",
     "text": [
      "[7 9 1 2 4 8 8 8 7 2 5 4 0 6 5 8 0 0 3 4 9 3 8 9 4 6 5 5 4 3 0 4 9 7 4 3 5\n",
      " 3 0 3 1 1 4 4 9 3 8 4 0 0 5 6 7 7 9 6 0 2 4 6 2 2 9 0 6 9 6 8 4 5 7 8 4 4\n",
      " 5 7 3 8 8 8 1 8 6 1 8 4 8 5 9 2 4 8 9 1 8 2 1 7 1 3 2 7 0 4 1 2 9 2 5 5 6\n",
      " 6 7 1 5 8 4 0 0 9 0 7 5 9 5 2 9 9 3 1 3 4 9 5 4 6 3 5 5 6 3 1 0 4 3 2 7 0\n",
      " 1 0 6 0 5 9 5 0 5 4 9 6 0 2 9 5 8 3 2 6 4 5 1 2 1 1 6 4 0 7 3 1 3 2 7 7 6\n",
      " 8 1 6 2 9 2 8 7 4 2 4 7 2 0 3 3 3 6 4 5 7 0 0 6 0 3 4 3 1 5 5 5 2 3 8 3 8\n",
      " 3 3 7 9 6 7 1 6 3 2 8 2 7 2 0 2 0 9 1 5 6 5 8 2 3 2 6 3 7 2 0 6 1 1 3 3 0\n",
      " 2 2 5 1 8 1 3 4 1 0 0 0 3 6 0 5 1 6 8 7 5 4 5 8 0 3 7 6 1 1 5 0 2 1 9 8 0\n",
      " 8 2 6 2 8 5 1 9 9 0 9 1 3 3 6 1 7 5 4 6 4 2 4 6 8 9 3 1 7 8 1 0 3 6 1 2 3\n",
      " 0 7 9 8 8 6 4 0 2 9 3 9 6 2 0 7 6 1 0 6 6 6 6 5 5 9 4 0 1 8 1 1 9 8 9 3 4\n",
      " 9 2 6 9 0 7 8 7 9 9 3 3 8 7 1 6 1 3 3 2 4 0 0 7 5 1 6 5 8 8 7 9 2 6 7 0 7\n",
      " 5 1 6 1 4 1 0 4 9 4 9 2 5 8 7 4 8 0 1 7 0 7 5 1 9 2 0 3 1 4 5 0 1 8 2 2 1\n",
      " 4 7 0 1 0 8 1 9 7 8 1 4 6 6 8 2 8 4 8 9 5 2 0 9 5 5 2 0 7 0 3 0 4 9 4 3 3\n",
      " 0 1 0 2 1 0 8 1 3 9 0 4 4 1 7 3 6 3 0 7 6 9 7 6 0 1 2 0 8 1 1 9 2 7 9 9 6\n",
      " 8 0 3 2 4 9 6 2 0 3 0 1 1 8 6 1 5 4 9 6 2 6 4 5 2 0 0 0 8 0 2 1 6 9 2 3 2\n",
      " 7 7 2 4 8 7 1 6 6 7 1 0 1 3 9 5 9 4 3 8 4 9 2 7 1 8 0 3 6 7 4 8 7 6 1 0 3\n",
      " 8 4 5 7 5 3 5 0 9 9 5 4 4 9 5 0 7 5 9 6 6 7 7 0 4 6 6 8 1 1 3 6 3 7 0 6 5\n",
      " 3 0 0 0 1 1 2 9 1 0 6 3 0 7 8 9 0 7 5 3 1 2 8 6 2 1 0 7 2 4 3 2 6 6 1 1 2\n",
      " 3 4 7 5 7 2 2 5 8 4 7 6 9 0 7 2 7 0 7 5 9 1 9 2 2 1 7 6 2 3 3 9 4 2 5 6 9\n",
      " 4 5 6 0 5 2 4 2 7 0 9 4 0 7 5 0 8 9 4 6 4 4 7 9 6 2 1 9 1 6 1 1 0 9 7 1 6\n",
      " 6 7 5 2 2 9 0 2 7 7 9 2 6 4 9 8 1 9 5 3 2 9 8 1 4 8 6 0 2 9 6 0 4 1 6 8 3\n",
      " 8 3 8 6 7 7 3 5 7 2 6 6 3 0 2 5 8 4 8 2 9 1 6 0 3 4 0 5 4 9 6 5 2 9 4 0 4\n",
      " 8 2 2 0 7 0 1 7 0 2 8 6 3 3 4 0 2 7 3 4 7 7 9 6 6 8 1 7 0 6 4 6 3 4 3 2 3\n",
      " 3 3 3 2 3 8 9 3 4 2 8 9 5 0 5 4 8 3 1 4 0 6 7 8 4 4 6 6 3 5 5 3 9 6 4 4 6\n",
      " 5 7 4 9 6 4 7 1 7 2 3 8 0 6 0 1 0 5 1 3 6 2 9 1 6 3 9 2 4 4 6 1 8 2 3 4 8\n",
      " 1 6 8 1 1 3 6 5 4 9 9 8 9 2 8 0 1 2 8 5 7 8 3 6 1 4 3 8 3 0 0 8 8 5 3 1 8\n",
      " 9 2 6 4 5 1 6 2 0 2 8 9 9 5 8 1 0 2 0 0 4 3 7 3 5 8 3 2 0 9 8 4 0 6 5 5 5\n",
      " 8] [7 9 1 2 4 8 8 8 2 3 5 4 3 6 5 8 0 0 3 4 9 5 8 9 4 6 5 5 4 3 0 4 9 7 4 8 5\n",
      " 3 0 3 1 1 4 4 9 3 1 4 0 5 5 6 9 7 9 6 0 2 4 6 2 2 9 0 6 4 6 8 4 8 7 8 4 4\n",
      " 5 7 3 8 8 8 1 8 6 1 8 4 8 5 9 2 4 8 9 1 8 5 1 7 1 3 7 7 0 4 1 2 9 2 5 5 6\n",
      " 4 9 6 5 5 4 0 3 7 0 7 5 4 5 2 9 7 9 1 3 4 9 5 4 6 3 5 5 6 8 1 0 4 3 2 7 0\n",
      " 1 0 6 0 5 2 5 0 5 4 7 6 0 2 5 5 8 3 2 6 4 5 1 2 1 1 2 4 0 7 3 1 3 2 7 7 6\n",
      " 5 1 6 2 9 3 8 7 4 3 4 7 2 0 3 3 3 6 9 5 9 0 0 6 0 3 4 7 1 5 5 5 2 3 8 3 8\n",
      " 3 3 7 7 6 7 1 6 3 8 5 2 7 2 0 2 0 9 1 2 6 8 8 2 2 3 6 3 7 2 0 6 1 1 3 3 0\n",
      " 2 2 5 1 8 1 3 4 3 0 0 0 3 6 0 5 1 6 0 7 3 4 5 8 0 3 7 6 1 1 3 0 2 1 7 8 0\n",
      " 8 2 6 2 8 5 1 9 9 0 9 3 3 3 6 1 7 3 4 6 4 2 4 2 8 9 3 1 7 5 1 0 3 6 1 2 3\n",
      " 3 7 9 8 8 6 4 0 9 9 3 9 6 8 0 7 6 1 8 6 6 6 6 5 3 9 4 0 1 8 6 1 9 2 9 3 4\n",
      " 9 2 6 7 0 7 8 7 7 9 3 3 8 7 1 6 1 3 3 2 4 0 0 9 5 1 6 3 8 8 7 9 2 6 7 0 7\n",
      " 5 1 6 1 4 1 0 4 9 4 9 2 5 8 7 4 5 0 1 7 0 7 3 1 9 8 0 3 1 4 5 0 1 8 2 2 1\n",
      " 4 7 3 1 0 8 1 9 7 8 1 4 6 6 8 2 8 4 8 9 5 2 0 9 5 5 5 0 7 5 3 0 4 9 4 3 3\n",
      " 0 1 0 2 1 0 8 1 3 4 0 4 4 1 7 3 6 3 2 7 6 9 7 6 0 8 2 0 8 1 1 9 2 7 9 9 4\n",
      " 8 0 3 2 4 7 6 2 0 3 5 1 1 8 4 1 5 4 4 6 2 6 4 5 2 0 0 0 8 0 2 1 6 9 6 3 2\n",
      " 1 7 2 4 5 7 3 6 6 7 1 0 1 3 9 5 4 4 3 8 4 4 2 7 1 8 0 9 6 7 4 8 9 7 1 3 6\n",
      " 5 7 5 7 5 3 5 0 9 9 5 4 4 7 5 0 7 5 9 6 6 7 9 0 4 6 6 8 1 1 3 6 3 7 0 6 3\n",
      " 3 0 5 0 1 2 2 4 1 0 6 3 6 7 5 9 0 7 5 3 1 0 8 6 2 1 0 7 2 5 3 2 6 6 1 1 2\n",
      " 3 4 9 5 7 2 2 5 9 4 7 6 9 0 7 2 7 0 7 0 9 1 9 2 2 4 7 6 2 3 3 4 4 2 5 6 9\n",
      " 4 5 6 0 8 2 4 2 7 0 9 4 0 9 5 0 2 9 4 6 4 4 7 9 5 2 1 9 1 6 1 1 0 7 7 1 6\n",
      " 6 7 5 2 2 9 0 2 7 7 9 2 6 4 9 8 1 7 2 3 2 9 3 2 4 8 6 0 2 9 6 0 7 1 6 9 3\n",
      " 8 3 8 6 7 7 2 5 7 2 6 6 3 0 5 1 8 4 1 1 7 1 2 0 5 4 5 5 9 9 6 3 2 9 4 5 4\n",
      " 8 2 2 0 7 0 1 9 0 2 8 6 3 3 4 0 2 9 8 4 7 7 9 6 6 7 1 7 0 6 4 6 3 4 9 2 3\n",
      " 3 3 3 6 3 8 9 3 4 2 8 9 5 0 5 4 5 3 6 4 0 6 7 8 4 4 6 6 3 5 1 3 9 6 4 4 6\n",
      " 5 7 4 9 6 4 7 1 9 2 3 8 0 6 0 1 0 5 1 3 6 2 9 1 6 3 9 2 2 4 6 1 8 2 3 4 8\n",
      " 1 6 8 1 1 8 6 5 4 9 4 8 9 2 4 0 1 3 6 5 9 8 3 6 1 4 3 3 3 0 0 8 5 5 3 1 8\n",
      " 9 3 4 4 8 1 6 2 0 2 2 9 9 5 3 1 0 2 0 0 4 3 7 3 3 8 5 2 0 9 8 4 0 6 5 8 5\n",
      " 9]\n"
     ]
    },
    {
     "data": {
      "text/plain": [
       "0.848"
      ]
     },
     "execution_count": 10,
     "metadata": {},
     "output_type": "execute_result"
    }
   ],
   "source": [
    "dev_predictions = make_predictions(X_dev, W1, b1, W2, b2)\n",
    "get_accuracy(dev_predictions, Y_dev)"
   ]
  },
  {
   "cell_type": "markdown",
   "metadata": {
    "papermill": {
     "duration": 0.045177,
     "end_time": "2023-06-16T11:53:26.136834",
     "exception": false,
     "start_time": "2023-06-16T11:53:26.091657",
     "status": "completed"
    },
    "tags": []
   },
   "source": [
    "> *Still 84% accuracy, so our model generalized from the training data pretty well.*"
   ]
  }
 ],
 "metadata": {
  "kernelspec": {
   "display_name": "Python 3",
   "language": "python",
   "name": "python3"
  },
  "language_info": {
   "codemirror_mode": {
    "name": "ipython",
    "version": 3
   },
   "file_extension": ".py",
   "mimetype": "text/x-python",
   "name": "python",
   "nbconvert_exporter": "python",
   "pygments_lexer": "ipython3",
   "version": "3.7.6"
  },
  "papermill": {
   "duration": 62.725404,
   "end_time": "2023-06-16T11:53:26.294788",
   "environment_variables": {},
   "exception": null,
   "input_path": "__notebook__.ipynb",
   "output_path": "__notebook__.ipynb",
   "parameters": {},
   "start_time": "2023-06-16T11:52:23.569384",
   "version": "2.1.0"
  }
 },
 "nbformat": 4,
 "nbformat_minor": 4
}
